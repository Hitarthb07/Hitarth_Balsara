{
  "nbformat": 4,
  "nbformat_minor": 0,
  "metadata": {
    "colab": {
      "provenance": []
    },
    "kernelspec": {
      "name": "python3",
      "display_name": "Python 3"
    },
    "language_info": {
      "name": "python"
    }
  },
  "cells": [
    {
      "cell_type": "code",
      "source": [
        "import re\n",
        "\n",
        "def check_password_strength(password):\n",
        "    # Conditions for password strength\n",
        "    if len(password) < 8:\n",
        "        return \"Password is weak: it must contain at least 8 characters.\"\n",
        "\n",
        "    if not any(char.isdigit() for char in password):\n",
        "        return \"Weak: password must contain digits.\"\n",
        "\n",
        "    if not any(char.isupper() for char in password):\n",
        "        return \"Weak: password does not contain uppercase characters.\"\n",
        "\n",
        "    if not any(char.islower() for char in password):\n",
        "        return \"Weak: password does not contain lowercase characters.\"\n",
        "\n",
        "    if not re.search(r'[!@#$%^&*()_\\-+=?><\":]', password):\n",
        "        return \"Medium: password must contain a special character.\"\n",
        "\n",
        "    return \"Your password is secure.\"\n",
        "\n",
        "def check_password():\n",
        "    print(\"Welcome to the tool\")\n",
        "\n",
        "    while True:\n",
        "        password = input(\"Enter your password (or type 'exit' to quit): \")\n",
        "\n",
        "        if password.lower() == 'exit':\n",
        "            print(\"Thank you for using the tool.\")\n",
        "            break\n",
        "\n",
        "        result = check_password_strength(password)\n",
        "        print(result)\n",
        "\n",
        "# Run the tool\n",
        "if __name__ == \"__main__\":\n",
        "    check_password()\n"
      ],
      "metadata": {
        "id": "UZ2c-ARHhjid",
        "colab": {
          "base_uri": "https://localhost:8080/"
        },
        "outputId": "3b906aca-88db-497a-9c11-63efe106e580"
      },
      "execution_count": 4,
      "outputs": [
        {
          "output_type": "stream",
          "name": "stdout",
          "text": [
            "Welcome to the tool\n",
            "Enter your password (or type 'exit' to quit): ashiudha\n",
            "Weak: password must contain digits.\n",
            "Enter your password (or type 'exit' to quit): exit\n",
            "Thank you for using the tool.\n"
          ]
        }
      ]
    },
    {
      "cell_type": "code",
      "source": [],
      "metadata": {
        "id": "GZcXSEDk6tMz"
      },
      "execution_count": null,
      "outputs": []
    }
  ]
}